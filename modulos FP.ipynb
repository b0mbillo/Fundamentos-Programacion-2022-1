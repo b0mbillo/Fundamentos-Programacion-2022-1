{
 "cells": [
  {
   "cell_type": "markdown",
   "id": "e304a4e7",
   "metadata": {},
   "source": [
    "https://ticademia.com/curso/224/modulo/466"
   ]
  },
  {
   "cell_type": "code",
   "execution_count": null,
   "id": "d021431d",
   "metadata": {
    "scrolled": true
   },
   "outputs": [],
   "source": [
    "\n",
    "a,b,c=45,65,12\n",
    "psw= (a-c//b*(a**2)+a*2)-c\n",
    "\n",
    "print (psw)\n"
   ]
  },
  {
   "cell_type": "code",
   "execution_count": 2,
   "id": "1465bc27",
   "metadata": {
    "scrolled": false
   },
   "outputs": [
    {
     "name": "stdout",
     "output_type": "stream",
     "text": [
      "\n",
      "2.23211 6.69633 6.7\n"
     ]
    }
   ],
   "source": [
    "x = input()\n",
    "if x==\"\":\n",
    "    x = 2.23211\n",
    "        \n",
    "b = float(x)*3\n",
    "c = round(b,1) \n",
    "print (x,b,c)"
   ]
  },
  {
   "cell_type": "code",
   "execution_count": null,
   "id": "09a644c3",
   "metadata": {},
   "outputs": [],
   "source": [
    "n= float(input()) \n",
    "a = int(n+1)\n",
    "print(a)"
   ]
  },
  {
   "cell_type": "code",
   "execution_count": null,
   "id": "59f18307",
   "metadata": {},
   "outputs": [],
   "source": [
    "F=float(input())\n",
    "C = ((F-32)*5)/9\n",
    "print(C,\"grados centigrados\")"
   ]
  },
  {
   "cell_type": "code",
   "execution_count": null,
   "id": "860ceafc",
   "metadata": {},
   "outputs": [],
   "source": [
    "n = input()\n",
    "print(\"Hola\", n,end=\",\")\n",
    "print(\" ya has hecho tus primeros programas\")\n",
    "#print(\"Hola\", n + \", ya has hecho tus primeros programas\")\n"
   ]
  },
  {
   "cell_type": "code",
   "execution_count": null,
   "id": "32b56dc1",
   "metadata": {},
   "outputs": [],
   "source": [
    "B=float(input())\n",
    "b=float(input())\n",
    "h=float(input())\n",
    "\n",
    "A=(B+b)*h/2\n",
    "print(\"El lote tiene\", A, \"metros cuadrados\")"
   ]
  },
  {
   "cell_type": "code",
   "execution_count": 6,
   "id": "58a46abd",
   "metadata": {},
   "outputs": [
    {
     "name": "stdout",
     "output_type": "stream",
     "text": [
      "2\n",
      "3\n",
      "4\n",
      "510.0\n"
     ]
    }
   ],
   "source": [
    "C = float(input())\n",
    "i = float(input())\n",
    "m = float(input())\n",
    "\n",
    "X = C*(1+i)**m\n",
    "\n",
    "print(round(X,-1))"
   ]
  },
  {
   "cell_type": "code",
   "execution_count": null,
   "id": "4213fa25",
   "metadata": {},
   "outputs": [],
   "source": [
    "from math import pi\n",
    "r = float(input())\n",
    "h = float(input())\n",
    "v = float(input())\n",
    "m = float(input())\n",
    "\n",
    "V = (pi*r**2*h) - (v*m)\n",
    "vol = round(V,3)\n",
    "print(max(0,vol))"
   ]
  },
  {
   "cell_type": "code",
   "execution_count": null,
   "id": "e5e5b26e",
   "metadata": {},
   "outputs": [],
   "source": [
    "from math import sqrt\n",
    "a = float(input())\n",
    "b = float(input())\n",
    "A = sqrt(b**2 - a**2  ) * a\n",
    "print(\"El area total es de\", round(A,2), \"metros cuadrados\")\n"
   ]
  },
  {
   "cell_type": "code",
   "execution_count": null,
   "id": "5d94a183",
   "metadata": {
    "scrolled": false
   },
   "outputs": [],
   "source": [
    "t =int(input())\n",
    "'''\n",
    "h= t//3600\n",
    "m= (t%3600)//60\n",
    "s= t%60\n",
    "'''\n",
    "\n",
    "h=t//3600\n",
    "m=t//60 - h*60 \n",
    "s=t - m*60 - h*3600\n",
    "\n",
    "print(h, m , s, sep= \":\" )"
   ]
  },
  {
   "cell_type": "code",
   "execution_count": null,
   "id": "8d955c0b",
   "metadata": {},
   "outputs": [],
   "source": [
    "N= int(input())\n",
    "if N%2 != 0:\n",
    "    print(N*3)\n",
    "else:\n",
    "    print(N*2)"
   ]
  },
  {
   "cell_type": "code",
   "execution_count": null,
   "id": "93224027",
   "metadata": {},
   "outputs": [],
   "source": [
    "E= int(input())\n",
    "if E < 18:\n",
    "     print(\"Tienes\", E,\"lo siento no puedes hacer lo que quieras\")\n",
    "else:\n",
    "     print(\"Tienes\", E,\"sigues sin poder hacer lo que quieras pero ademas tienes obligaciones\")"
   ]
  },
  {
   "cell_type": "code",
   "execution_count": null,
   "id": "add53663",
   "metadata": {},
   "outputs": [],
   "source": [
    "C = int(input())\n",
    "N = int(input())\n",
    "if C%23==0 or N%23==0 or C%13==0 or N%13==0:\n",
    "    print(\"La direccion calle\", C,  \"#\", N, \"esta prohibida\")\n",
    "else:\n",
    "     print(\"La direccion calle\", C, \"#\", N, \"no esta prohibida\")\n"
   ]
  },
  {
   "cell_type": "code",
   "execution_count": null,
   "id": "af1ee1ac",
   "metadata": {},
   "outputs": [],
   "source": [
    "x = float(input())\n",
    "print(x+5)\n",
    "if x>10:    \n",
    "    print(x-8)\n",
    "    \n"
   ]
  },
  {
   "cell_type": "code",
   "execution_count": null,
   "id": "c37f8078",
   "metadata": {},
   "outputs": [],
   "source": [
    "V = int(input())\n",
    "E = int(input())\n",
    "x = E-V\n",
    "print(x)\n",
    "if x%4!=0 and (x%10==0 or x%15==0):  \n",
    "    print(\"y te lo puedes quedar\")\n"
   ]
  },
  {
   "cell_type": "code",
   "execution_count": 5,
   "id": "62c5eb8f",
   "metadata": {},
   "outputs": [
    {
     "data": {
      "text/plain": [
       "True"
      ]
     },
     "execution_count": 5,
     "metadata": {},
     "output_type": "execute_result"
    }
   ],
   "source": [
    "X=2\n",
    "not (X > 14 and X != 40)"
   ]
  },
  {
   "cell_type": "code",
   "execution_count": null,
   "id": "6f0b3504",
   "metadata": {},
   "outputs": [],
   "source": [
    "c= int(input())\n",
    "k= int(input())\n",
    "pr = ((k-c)/c)*100\n",
    "\n",
    "if k>c:\n",
    "    print(\"Hubo una ganancia de $\",k-c,\"correspondiente al\", pr,\"% del capital invertido\")\n",
    "elif c>k:\n",
    "    print(\"Hubo una perdida de $\",abs(k-c),\"correspondiente al\", abs(pr),\"% del capital invertido\")\n",
    "else:\n",
    "    print(\"No hubo ni ganancia ni perdida, la inversion fue un desperdicio de tiempo, pero al menos no de dinero\")\n",
    "    "
   ]
  },
  {
   "cell_type": "code",
   "execution_count": null,
   "id": "0fcb88d0",
   "metadata": {},
   "outputs": [],
   "source": [
    "N=int(input())\n",
    "if N == 3:\n",
    "    print(\"El numero 3 es el mejor\")\n",
    "elif N%3 == 0:\n",
    "    print(\"El numero\",N ,\"es multiplo de 3. Y el numero 3 es el mejor\")\n",
    "elif N%3 == 1:\n",
    "    print(\"El numero\",N ,\"no es multiplo de 3, pero si le restas 1 el resultado si lo es. Y el numero 3 es el mejor\") \n",
    "else:\n",
    "    print(\"El numero\",N ,\"no es multiplo de 3, pero si le sumas 1 el resultado si lo es. Y el numero 3 es el mejor\")"
   ]
  },
  {
   "cell_type": "code",
   "execution_count": null,
   "id": "baceee5a",
   "metadata": {},
   "outputs": [],
   "source": [
    "P = float(input())\n",
    "if P<40:\n",
    "    print(\"El porcentaje\",P, \"corresponde a la calificacion F\")\n",
    "elif P>=90:\n",
    "    print(\"El porcentaje\",P, \"corresponde a la calificacion A\")\n",
    "elif 90>P>=80:\n",
    "    print(\"El porcentaje\",P, \"corresponde a la calificacion B\")\n",
    "elif 80>P>=70:\n",
    "    print(\"El porcentaje\",P, \"corresponde a la calificacion C\")\n",
    "elif 70>P>=60:\n",
    "    print(\"El porcentaje\",P, \"corresponde a la calificacion D\")\n",
    "else:\n",
    "    print(\"El porcentaje\",P, \"corresponde a la calificacion E\")\n",
    "\n",
    "    "
   ]
  },
  {
   "cell_type": "code",
   "execution_count": null,
   "id": "65f2c8b7",
   "metadata": {},
   "outputs": [],
   "source": [
    "x = float(input())\n",
    "y = float(input())\n",
    "\n",
    "if x == 0 and y == 0:\n",
    "    print (\"La coordenada (0.0, 0.0) corresponde al origen\")\n",
    "elif x == 0 and (y>0 or y<0):\n",
    "    print (\"La coordenada\",(x,y),\"esta sobre el eje Y\")\n",
    "elif (x>0 or x<0) and y == 0:\n",
    "    print (\"La coordenada\",(x,y),\"esta sobre el eje X\")\n",
    "elif x>0:\n",
    "    if y>0:\n",
    "        print(\"La coordenada\",(x,y),\"se encuentra en el cuadrante 1\")\n",
    "    else:\n",
    "        print(\"La coordenada\",(x,y),\"se encuentra en el cuadrante 4\")\n",
    "elif x<0:\n",
    "    if y>0:\n",
    "        print(\"La coordenada\",(x,y),\"se encuentra en el cuadrante 2\")\n",
    "    else:\n",
    "        print(\"La coordenada\",(x,y),\"se encuentra en el cuadrante 3\")"
   ]
  },
  {
   "cell_type": "code",
   "execution_count": null,
   "id": "ca3a3e4b",
   "metadata": {},
   "outputs": [],
   "source": [
    "x = float(input())\n",
    "y = float(input())\n",
    "z = float(input())\n",
    "\n",
    "if (x>y or x>z) and (x<y or x<z) :\n",
    "    print(x,\"es la mediana\")\n",
    "elif (z>y or z>x) and (z<y or z<x) :\n",
    "    print(z,\"es la mediana\")\n",
    "else:\n",
    "    print(y,\"es la mediana\")"
   ]
  },
  {
   "cell_type": "code",
   "execution_count": null,
   "id": "40c66082",
   "metadata": {
    "slideshow": {
     "slide_type": "-"
    }
   },
   "outputs": [],
   "source": [
    "h = int(input())\n",
    "m = int(input())\n",
    "xm = input()\n",
    "\n",
    "if xm == \"am\":\n",
    "    if h == 12:\n",
    "        h = 0\n",
    "    p = 23\n",
    "     \n",
    "elif xm == \"pm\":\n",
    "    if h == 12:\n",
    "        h = 0\n",
    "    p = 11\n",
    "\n",
    "mf = 60-m\n",
    "\n",
    "if m == 0:\n",
    "    p += 1\n",
    "    mf = 0 \n",
    "    \n",
    "hf = p -h       \n",
    "tf = mf + hf*60\n",
    "print(\"Faltan\", tf, \"para las 12\")"
   ]
  },
  {
   "cell_type": "code",
   "execution_count": null,
   "id": "744d5d14",
   "metadata": {},
   "outputs": [],
   "source": [
    "t=int(input())\n",
    "h=int(input())\n",
    "if h>45:\n",
    "    p=(h-45)*t*0.5 + h*t \n",
    "else:\n",
    "    p=h*t\n",
    "\n",
    "print(\"$\",int(p))"
   ]
  },
  {
   "cell_type": "code",
   "execution_count": null,
   "id": "686bff3f",
   "metadata": {
    "scrolled": true
   },
   "outputs": [],
   "source": [
    "h = int(input())\n",
    "m = int(input())\n",
    "\n",
    "hi = (12 - h)\n",
    "mi = 60 - m\n",
    "\n",
    "if m == 0:\n",
    "    mi = 0\n",
    "    \n",
    "elif m>0:\n",
    "    hi = (11-h)\n",
    "    \n",
    "if (h == 12 or h == 6) and m == 0:\n",
    "    hi = h\n",
    "    mi = 0\n",
    "elif h == 12 or h == 11:\n",
    "    hi = (23-h)\n",
    "    \n",
    "print(hi, mi, sep= \":\" )"
   ]
  },
  {
   "cell_type": "code",
   "execution_count": null,
   "id": "f2d08c97",
   "metadata": {},
   "outputs": [],
   "source": [
    "x = input()\n",
    "y = input()\n",
    "if x == y:\n",
    "    print(\"empate\")\n",
    "\n",
    "if x == \"piedra\" or y == \"piedra\":\n",
    "    if x == \"tijera\" or y == \"tijera\":\n",
    "        print(\"piedra vence tijera\")\n",
    "    elif x == \"papel\" or y == \"papel\":\n",
    "        print(\"papel vence piedra\")\n",
    "if x == \"tijera\" or y == \"tijera\":\n",
    "    if x == \"papel\" or y == \"papel\":\n",
    "        print(\"tijera vence papel\")"
   ]
  },
  {
   "cell_type": "code",
   "execution_count": null,
   "id": "03237293",
   "metadata": {},
   "outputs": [],
   "source": [
    "n = int(input())\n",
    "if n%2 == 0:\n",
    "    print(n,\"es multiplo de 2\")\n",
    "elif n%3 == 0:\n",
    "    print(n,\"es multiplo de 3\")\n",
    "elif n%5 == 0:\n",
    "    print(n,\"es multiplo de 5\")\n",
    "elif n%7 == 0:\n",
    "    print(n,\"es multiplo de 7\")\n",
    "else:\n",
    "    print(n,\"no es multiplo de ninguno de los primeros cuatro primos\")"
   ]
  },
  {
   "cell_type": "code",
   "execution_count": null,
   "id": "c29c7a69",
   "metadata": {},
   "outputs": [],
   "source": [
    "x = 3\n",
    "y= 10\n",
    "print(x*10, y/10, x%3, y//2, y**x,sep=\"/\", end = \"\")"
   ]
  },
  {
   "cell_type": "code",
   "execution_count": 23,
   "id": "83d0e27a",
   "metadata": {},
   "outputs": [
    {
     "name": "stdout",
     "output_type": "stream",
     "text": [
      "123000\n",
      "2 de $50000\n",
      "1 de $20000\n",
      "1 de $2000\n",
      "1 de $1000\n"
     ]
    }
   ],
   "source": [
    "d = int(input())\n",
    "\n",
    "b50 = 0\n",
    "b20 = 0\n",
    "b10 = 0\n",
    "b5 = 0\n",
    "b2 = 0\n",
    "b1 = 0\n",
    "\n",
    "b50 += d//50000\n",
    "r = d - b50*50000\n",
    "if b50>0:\n",
    "    print(b50, \"de $50000\") \n",
    "    \n",
    "b20 += r//20000\n",
    "r = r - b20*20000\n",
    "if b20>0:\n",
    "    print(b20, \"de $20000\")\n",
    "    \n",
    "b10 += r//10000\n",
    "r = r - b10*10000\n",
    "if b10>0:\n",
    "    print(b10, \"de $10000\")\n",
    "            \n",
    "b5 += r//5000\n",
    "r = r - b5*5000\n",
    "if b5>0:\n",
    "    print(b5, \"de $5000\")\n",
    "                \n",
    "b2 += r//2000\n",
    "r = r - b2*2000\n",
    "if b2>0:\n",
    "    print(b2, \"de $2000\")\n",
    "                    \n",
    "b1 += r//1000\n",
    "if b1>0:\n",
    "    print(b1, \"de $1000\")\n",
    "                   "
   ]
  },
  {
   "cell_type": "code",
   "execution_count": 48,
   "id": "57783418",
   "metadata": {},
   "outputs": [
    {
     "name": "stdout",
     "output_type": "stream",
     "text": [
      "2\n",
      "2 x 1 = 2\n",
      "2 x 2 = 4\n",
      "2 x 3 = 6\n",
      "2 x 4 = 8\n",
      "2 x 5 = 10\n",
      "2 x 6 = 12\n",
      "2 x 7 = 14\n",
      "2 x 8 = 16\n",
      "2 x 9 = 18\n",
      "2 x 10 = 20\n",
      "2 x 11 = 22\n",
      "2 x 12 = 24\n",
      "2 x 13 = 26\n",
      "2 x 14 = 28\n",
      "2 x 15 = 30\n",
      "2 x 16 = 32\n",
      "2 x 17 = 34\n",
      "2 x 18 = 36\n",
      "2 x 19 = 38\n",
      "2 x 20 = 40\n"
     ]
    }
   ],
   "source": [
    "n = int(input())\n",
    "\n",
    "for i in range(1,21):\n",
    "    print(n, \"x\", i, \"=\", n*i)"
   ]
  },
  {
   "cell_type": "code",
   "execution_count": 4,
   "id": "c270f3e7",
   "metadata": {},
   "outputs": [
    {
     "name": "stdout",
     "output_type": "stream",
     "text": [
      "4\n",
      "1\n"
     ]
    }
   ],
   "source": [
    "x= float(input())\n",
    "\n",
    "p = True\n",
    "i=0\n",
    "while p:\n",
    "    x = x/2\n",
    "    i += 1\n",
    "    if x<10:\n",
    "        p = False\n",
    "        print(int(i))"
   ]
  },
  {
   "cell_type": "code",
   "execution_count": null,
   "id": "255b2a88",
   "metadata": {},
   "outputs": [],
   "source": [
    "c = int(input()) \n",
    "l = float(input())\n",
    "i = float(input())\n",
    "\n",
    "A = l*l\n",
    "for x in range(1,c):\n",
    "    l +=i\n",
    "    A += l*l\n",
    "print(\"El area total es de\", A, \"metros cuadrados\")\n",
    "    \n",
    "    \n"
   ]
  },
  {
   "cell_type": "code",
   "execution_count": 3,
   "id": "a18a71db",
   "metadata": {
    "scrolled": true
   },
   "outputs": [
    {
     "name": "stdout",
     "output_type": "stream",
     "text": [
      "2\n",
      "3\n",
      "4\n",
      "5\n",
      "6\n",
      "0\n"
     ]
    }
   ],
   "source": [
    "p = float(input())\n",
    "n = int(input())\n",
    "M = 0\n",
    "\n",
    "l = True\n",
    "\n",
    "for x in range(1,n+1):\n",
    "    m = float(input())\n",
    "    M += m\n",
    "    \n",
    "    if M ==p and l:\n",
    "        X = x\n",
    "        l = False\n",
    "    elif M>p and l:\n",
    "        X = x-1\n",
    "        l = False\n",
    "\n",
    "print(X)     \n"
   ]
  },
  {
   "cell_type": "code",
   "execution_count": 21,
   "id": "dd4c8c86",
   "metadata": {},
   "outputs": [
    {
     "name": "stdout",
     "output_type": "stream",
     "text": [
      "4567343\n",
      "43\n"
     ]
    },
    {
     "data": {
      "text/plain": [
       "'\\nDado un número entero positivo N mayor a 9, se debe mostrar el número resultante de\\nunir su primer y último dígito.\\nAsí por ejemplo, si el número es 6789, el resultado será 69.\\n\\nsolo con ciclos y condicionales se deberia poder hacer (creo), nose como :P\\n'"
      ]
     },
     "execution_count": 21,
     "metadata": {},
     "output_type": "execute_result"
    }
   ],
   "source": [
    "n = list(input())\n",
    "print (n[0]+n[-1])\n",
    "\n",
    "'''\n",
    "Dado un número entero positivo N mayor a 9, se debe mostrar el número resultante de\n",
    "unir su primer y último dígito.\n",
    "Así por ejemplo, si el número es 6789, el resultado será 69.\n",
    "\n",
    "con ciclos y condicionales se deberia poder hacer (creo, pórque esta en el modulo antes de list), nose como :P\n",
    "'''"
   ]
  },
  {
   "cell_type": "code",
   "execution_count": 82,
   "id": "c2b47a0e",
   "metadata": {},
   "outputs": [
    {
     "name": "stdout",
     "output_type": "stream",
     "text": [
      "5\n",
      "5\n",
      "00+00\n",
      "00+00\n",
      "+++++\n",
      "00+00\n",
      "00+00\n"
     ]
    }
   ],
   "source": [
    "L = int(input())\n",
    "A = int(input())\n",
    "\n",
    "for a in range(A):\n",
    "    for l in range(1,L):\n",
    "        if a == A//2:\n",
    "            print(\"+\", end=\"\")    \n",
    "        else:\n",
    "            print(\"0\", end=\"\")\n",
    "        \n",
    "        if l == L//2 :\n",
    "            print(\"+\", end=\"\")\n",
    "        \n",
    "    print(\"\")\n",
    "       \n",
    "\n"
   ]
  },
  {
   "cell_type": "code",
   "execution_count": null,
   "id": "aa9d043a",
   "metadata": {},
   "outputs": [],
   "source": [
    "a = int(input())\n",
    "p = int(input())\n",
    "q = int(input())\n",
    "\n",
    "A = a\n",
    "R = True\n",
    "\n",
    "\n",
    "for i in range(p,q+1):\n",
    "    if a<=0:\n",
    "        break\n",
    "    if a%i != 0:\n",
    "        R = False \n",
    "    a /= i\n",
    "if R:\n",
    "    print(A, \"es polifactor entre\",p,\"y\",q)\n",
    "else:\n",
    "    print(A, \"no es polifactor entre\",p,\"y\",q)\n"
   ]
  },
  {
   "cell_type": "code",
   "execution_count": 2,
   "id": "96a36043",
   "metadata": {},
   "outputs": [
    {
     "name": "stdout",
     "output_type": "stream",
     "text": [
      "3\n",
      "5\n",
      "5\n",
      "1\n",
      "-3\n",
      "2\n",
      "4\n"
     ]
    }
   ],
   "source": [
    "N = int(input())\n",
    "\n",
    "r = 0\n",
    "b = 0\n",
    "a = 0\n",
    "\n",
    "for i in range(1,N+1):\n",
    "    p = float(input())\n",
    "    if i == 1:\n",
    "        a = 0\n",
    "    else:\n",
    "        a += b \n",
    "    b = (p*i)-a \n",
    "    \n",
    "    print(int(b))\n"
   ]
  },
  {
   "cell_type": "code",
   "execution_count": 1,
   "id": "744b5600",
   "metadata": {},
   "outputs": [
    {
     "name": "stdout",
     "output_type": "stream",
     "text": [
      "4\n",
      "2\n",
      "3\n",
      "1\n",
      "4\n",
      "1: 1\n",
      "2: 1\n",
      "3: 1\n",
      "4: 1\n",
      "5: 0\n"
     ]
    }
   ],
   "source": [
    "n = int(input())\n",
    "num = []\n",
    "\n",
    "for i in range(1, n+1):\n",
    "    x = int(input())\n",
    "    num.append(x)\n",
    "    \n",
    "for j in range(1, 6):\n",
    "    m = num.count(j)\n",
    "    print(j, m, sep=\": \" )"
   ]
  },
  {
   "cell_type": "code",
   "execution_count": null,
   "id": "733b64e7",
   "metadata": {},
   "outputs": [],
   "source": [
    "n = int(input())\n",
    "\n",
    "golesm = []\n",
    "golesb = []\n",
    "\n",
    "puntosm = 0\n",
    "puntosb = 0\n",
    "\n",
    "for j in range(n):\n",
    "    x = int(input())\n",
    "    golesb.append(x)\n",
    "for i in range(n):\n",
    "    x = int(input())\n",
    "    golesm.append(x)\n",
    "    \n",
    "    \n",
    "for k in range(n):\n",
    "    f = golesm[k]\n",
    "    g = golesb[k]\n",
    "    if f > g:\n",
    "        puntosm += 2\n",
    "    elif f == g:\n",
    "        puntosm += 1\n",
    "        puntosb += 1\n",
    "    else:\n",
    "        puntosb += 2\n",
    "        \n",
    "print(\"Ballenota Futbol Club:\", puntosb)\n",
    "print(\"Real Mandril:\", puntosm)\n"
   ]
  },
  {
   "cell_type": "code",
   "execution_count": null,
   "id": "5fe5b7cd",
   "metadata": {},
   "outputs": [],
   "source": [
    "t = 0\n",
    "cromos = []\n",
    "d = 0\n",
    "\n",
    "while t<=100000:\n",
    "    t+=1\n",
    "    c = int(input())\n",
    "    \n",
    "    if t<3 and c == 0 :\n",
    "        t-=1\n",
    "    elif c == 0:\n",
    "        break\n",
    "    elif c != 0:\n",
    "        cromos.append(c)\n",
    "    \n",
    "    if cromos.count(c) == 1:\n",
    "        d +=1\n",
    "        \n",
    "print(d)       \n",
    "\n",
    "\n",
    "'''t = True\n",
    "cromos = []\n",
    "d = 0\n",
    "\n",
    "while t:\n",
    "    c = int(input())\n",
    "    cromos.append(c)\n",
    "    if c == 0:\n",
    "        break\n",
    "    if cromos.count(c) == 1:\n",
    "        d +=1\n",
    "        \n",
    "print(d)'''"
   ]
  },
  {
   "cell_type": "code",
   "execution_count": null,
   "id": "c367381d",
   "metadata": {},
   "outputs": [],
   "source": [
    "t = 0\n",
    "sal = []\n",
    "\n",
    "while t<=10000000:\n",
    "    t+=1\n",
    "    c = int(input())\n",
    "    \n",
    "    if t<7 and c == 0 :\n",
    "        t-=1\n",
    "    elif c == 0:\n",
    "        t-=1\n",
    "        break\n",
    "    elif c != 0:\n",
    "        sal.append(c) \n",
    "\n",
    "sal.sort()\n",
    "x = len(sal)\n",
    "\n",
    "ind = (sal[x-3]-sal[2])/(t**2)\n",
    "\n",
    "'''\n",
    "print(\"----\",x)\n",
    "print(t)\n",
    "print(sal)\n",
    "'''\n",
    "print(round(ind,2))\n",
    "     "
   ]
  },
  {
   "cell_type": "code",
   "execution_count": null,
   "id": "bd6dc66a",
   "metadata": {},
   "outputs": [],
   "source": [
    "n = int(input())\n",
    "est1 = []\n",
    "est2 = []\n",
    "vivos = 0\n",
    "\n",
    "for j in range(n):\n",
    "    x = int(input())\n",
    "    est1.append(x)\n",
    "for i in range(n):\n",
    "    x = int(input())\n",
    "    est2.append(x)\n",
    "    \n",
    "est1.sort()\n",
    "est2.sort(#reverse=True) \n",
    "est2.reverse()  \n",
    "\n",
    "m = len(est1)\n",
    "\n",
    "#print(est1)\n",
    "#print(est2)\n",
    "\n",
    "for l in range(m):\n",
    "    t1 = est1[l]\n",
    "    t2 = est2[l]\n",
    "    \n",
    "    if (t1%2 != 0 and t2%2 == 0):\n",
    "        vivos += 2 \n",
    "    elif (t1%2 == 0 and t2%2 != 0):\n",
    "        vivos += 2\n",
    "        \n",
    "print(\"Sobreviven\", vivos, \"soldados\")"
   ]
  },
  {
   "cell_type": "code",
   "execution_count": null,
   "id": "54757f74",
   "metadata": {},
   "outputs": [],
   "source": [
    "n = int(input())\n",
    "m = int(input())\n",
    "\n",
    "fam = []\n",
    "w = []\n",
    "nw = []\n",
    "ganadores = []\n",
    "\n",
    "for i in range(1,n+1):\n",
    "    fam.append(i)\n",
    "    \n",
    "for j in range(m):\n",
    "    f = int(input())\n",
    "    w.append(f)\n",
    "\n",
    "for r in w: \n",
    "    nw.append(w.count(r))\n",
    "    \n",
    "for l in fam:\n",
    "    if w.count(l) == max(nw):\n",
    "        if ganadores.count(l)<1:\n",
    "            ganadores.append(l)\n",
    "\n",
    "for e in ganadores:\n",
    "    print(e)"
   ]
  },
  {
   "cell_type": "code",
   "execution_count": null,
   "id": "b7e506e9",
   "metadata": {},
   "outputs": [],
   "source": [
    "t = 1\n",
    "uvas = []\n",
    "\n",
    "while t<501:\n",
    "    a = int(input())\n",
    "    if a == 0:\n",
    "        break\n",
    "    uvas.append(a)\n",
    "    t+=1\n",
    "    \n",
    "uvas2 = uvas.copy() \n",
    "    \n",
    "for j in uvas:\n",
    "    s = 0\n",
    "    for i in range(1,10001):\n",
    "        s+=i \n",
    "        if j == s:\n",
    "            print(\"Puede ser un racimo ideal\")\n",
    "            break\n",
    "        if i == 10000: \n",
    "            print(\"No puede ser un racimo ideal\")\n"
   ]
  },
  {
   "cell_type": "code",
   "execution_count": null,
   "id": "64404615",
   "metadata": {},
   "outputs": [],
   "source": [
    "n = int(input())\n",
    "piezas = []\n",
    "\n",
    "for i in range(1,n):\n",
    "    x = int(input())\n",
    "    piezas.append(x)\n",
    "\n",
    "piezas.sort()\n",
    "\n",
    "for j in range(1,n+1):\n",
    "    if piezas.count(j) == 0:\n",
    "        print(\"La ficha faltante es la\", j)\n",
    "        break\n",
    "    "
   ]
  },
  {
   "cell_type": "code",
   "execution_count": null,
   "id": "50061f1a",
   "metadata": {},
   "outputs": [],
   "source": [
    "t = 0\n",
    "psj = []\n",
    "c = 0\n",
    "psj2 = []\n",
    "while t<2001:\n",
    "    t+=1\n",
    "    x = int(input())\n",
    "    if x == 0:\n",
    "        break\n",
    "    psj.append(x)\n",
    "\n",
    "\n",
    "psj2 = psj.copy()\n",
    "for i in psj:\n",
    "    psj2.remove(i)\n",
    "    for j in psj2:\n",
    "        if j+i == 1995:\n",
    "            c +=1\n",
    "               \n",
    "print(c)"
   ]
  },
  {
   "cell_type": "code",
   "execution_count": null,
   "id": "5834447a",
   "metadata": {},
   "outputs": [],
   "source": [
    "from math import sqrt\n",
    "c = 299792458\n",
    "def factor(x):\n",
    "    x /= 3.6 \n",
    "    y = 1/(sqrt(1-(x**2/c**2)))\n",
    "    return y\n",
    "    \n",
    "n = int(input())\n",
    "for i in range(n):\n",
    "    x = float(input())\n",
    "    print(round(factor(x),15))\n",
    "    "
   ]
  },
  {
   "cell_type": "code",
   "execution_count": null,
   "id": "4cd3afd1",
   "metadata": {},
   "outputs": [],
   "source": [
    "from math import sqrt\n",
    "def g(x):\n",
    "    return (4+x)**3\n",
    "def f(x):\n",
    "    return sqrt(2+5*x)\n",
    "\n",
    "t = True\n",
    "while t:\n",
    "    x = int(input())\n",
    "    if x == 0:\n",
    "        break\n",
    "    \n",
    "    if x%2 == 0:\n",
    "        print(f(g(x)))\n",
    "    else:\n",
    "        print(g(f(x)))\n",
    "    \n"
   ]
  },
  {
   "cell_type": "code",
   "execution_count": null,
   "id": "03c535a8",
   "metadata": {},
   "outputs": [],
   "source": [
    "def hp(x):\n",
    "    if x%2 != 0:\n",
    "        print(\"No es hyperpar\")\n",
    "        return\n",
    "    y = list(str(x))\n",
    "    for i in y:\n",
    "        if int(i)%2 != 0:\n",
    "            print(\"No es hyperpar\")\n",
    "            return\n",
    "    print(\"Hyperpar\")\n",
    "        \n",
    "    \n",
    "t = True\n",
    "while t:\n",
    "    x = int(input())\n",
    "    if x == -1:\n",
    "        break\n",
    "    hp(x)\n",
    "        \n",
    "    "
   ]
  },
  {
   "cell_type": "code",
   "execution_count": null,
   "id": "aac0c48a",
   "metadata": {},
   "outputs": [],
   "source": [
    "def f(x):\n",
    "    if x%123 == 0:\n",
    "        return 0\n",
    "    return 1 + f(x+23)\n",
    "\n",
    "\n",
    "n = int(input())\n",
    "for i in range(n):\n",
    "    x = int(input())\n",
    "    print(f(x))"
   ]
  },
  {
   "cell_type": "code",
   "execution_count": null,
   "id": "b6ed83e9",
   "metadata": {},
   "outputs": [],
   "source": [
    "from math import sqrt\n",
    "def p(x):\n",
    "    return 2*x+1\n",
    "def a(x):\n",
    "    return 3**x\n",
    "def n(x): \n",
    "    return sqrt(5*x+4)\n",
    "    \n",
    "\n",
    "m = int(input())\n",
    "for i in range(m):\n",
    "    x = float(input())\n",
    "    print(p(a(n(x))))"
   ]
  },
  {
   "cell_type": "code",
   "execution_count": null,
   "id": "bb537532",
   "metadata": {},
   "outputs": [],
   "source": [
    "def A(m,n):\n",
    "    if m == 0:\n",
    "        return(n+1)\n",
    "    if n == 0:\n",
    "        return A(m-1,1)\n",
    "    return A(m-1,A(m,n-1))\n",
    "    \n",
    "x = int(input())\n",
    "for i in range(x):\n",
    "    m = int(input())\n",
    "    n = int(input())\n",
    "    print(A(m,n))\n",
    "    "
   ]
  },
  {
   "cell_type": "code",
   "execution_count": null,
   "id": "08507f5b",
   "metadata": {},
   "outputs": [],
   "source": [
    "def pfct(x):\n",
    "    d = []\n",
    "    s = 0\n",
    "    t = x//2 +1  \n",
    "    for i in range(1, t):\n",
    "        if x%i == 0:\n",
    "            d.append(i)\n",
    "    for j in d:\n",
    "        s += j\n",
    "        \n",
    "    if s == x:\n",
    "        return True\n",
    "    return False\n",
    "    \n",
    "\n",
    "n = int(input())\n",
    "for i in range(n):\n",
    "    x = int(input())\n",
    "    if pfct(x):\n",
    "        print(x, \"es perfecto\")\n",
    "    else:\n",
    "        print(x, \"no es perfecto\") "
   ]
  },
  {
   "cell_type": "code",
   "execution_count": 1,
   "id": "19065ff9",
   "metadata": {},
   "outputs": [
    {
     "name": "stdout",
     "output_type": "stream",
     "text": [
      "3\n",
      "4\n",
      "4 no es fuerte\n",
      "5\n",
      "5 no es fuerte\n",
      "0\n",
      "0 no es fuerte\n"
     ]
    }
   ],
   "source": [
    "def fuerte(x):\n",
    "    d = list(str(x))\n",
    "    S = 0\n",
    "    for i in d:\n",
    "        p = int(i)\n",
    "        fac = 1\n",
    "        for j in range (1,p+1):\n",
    "            fac *= j          \n",
    "        S += fac\n",
    "    if S == x:\n",
    "        print(x,\"es fuerte\")\n",
    "        return\n",
    "    else:\n",
    "        print(x,\"no es fuerte\")\n",
    "\n",
    "n = int(input())\n",
    "for i in range(n):\n",
    "    x = int(input())\n",
    "    fuerte(x)"
   ]
  },
  {
   "cell_type": "code",
   "execution_count": null,
   "id": "d1105e3c",
   "metadata": {
    "scrolled": false
   },
   "outputs": [],
   "source": [
    "t = True\n",
    "while t:\n",
    "    L = int(input())\n",
    "    if L == 0:\n",
    "        t = False\n",
    "        \n",
    "    for a in range(L):\n",
    "        for l in range(L):\n",
    "            if l == a or l == L-a-1:\n",
    "                print(\"#\", end=\"\")\n",
    "            else:\n",
    "                print(\"0\", end=\"\")\n",
    "        print(\"\")\n",
    "        \n",
    "    print(\"\")"
   ]
  },
  {
   "cell_type": "code",
   "execution_count": 38,
   "id": "8351a1f0",
   "metadata": {},
   "outputs": [
    {
     "name": "stdout",
     "output_type": "stream",
     "text": [
      "7\n",
      "18\n",
      "3\n"
     ]
    }
   ],
   "source": [
    "A = int(input())\n",
    "B = int(input())\n",
    "\n",
    "cnt = 0\n",
    "num = [2,1]\n",
    "j = -1\n",
    "l = 0\n",
    "\n",
    "for i in range(A,B+1):\n",
    "    j += 1\n",
    "    l += 1\n",
    "    \n",
    "    n = num[j]+num[l]\n",
    "    if n>B:\n",
    "        break\n",
    "        \n",
    "    num.append(n)\n",
    "    \n",
    "for k in range(A,B+1):\n",
    "        if k in num:\n",
    "            cnt += 1\n",
    "print(cnt)\n"
   ]
  },
  {
   "cell_type": "code",
   "execution_count": 50,
   "id": "3b84af52",
   "metadata": {},
   "outputs": [
    {
     "name": "stdout",
     "output_type": "stream",
     "text": [
      "4\n",
      "1\n",
      "1 es Armstrong\n",
      "2\n",
      "2 es Armstrong\n",
      "3\n",
      "3 es Armstrong\n",
      "4\n",
      "4 es Armstrong\n"
     ]
    }
   ],
   "source": [
    "def armstr(x):\n",
    "    num = list(str(x))\n",
    "    l = len(num)\n",
    "    sm = 0\n",
    "    #print(num, \"len\", l)\n",
    "    for j in num:\n",
    "        b = int(j)**l\n",
    "        #print(\"\", end=\"-\")\n",
    "        #print(b)\n",
    "        sm += b\n",
    "    #print(sm)     \n",
    "    if sm == x:\n",
    "        return True\n",
    "    \n",
    "\n",
    "n= int(input())\n",
    "\n",
    "for i in range(n):\n",
    "    a = int(input())\n",
    "    if armstr(a):\n",
    "        print(a,\"es Armstrong\")\n",
    "    else:\n",
    "        print(a,\"no es Armstrong\")"
   ]
  },
  {
   "cell_type": "code",
   "execution_count": 24,
   "id": "722de6de",
   "metadata": {
    "scrolled": true
   },
   "outputs": [
    {
     "name": "stdout",
     "output_type": "stream",
     "text": [
      "5\n",
      "0\n",
      "0\n",
      "0\n",
      "0\n",
      "0\n",
      "[0.0, 0.0, 0.0, 0.0, 0.0]\n",
      "4\n"
     ]
    }
   ],
   "source": [
    "n = int(input())\n",
    "num = []\n",
    "cnt = 0\n",
    "for i in range(n):\n",
    "    l = float(input())\n",
    "    num.append(l)\n",
    "\n",
    "#print(num)\n",
    "\n",
    "le = len(num)\n",
    "\n",
    "for j in range(le):\n",
    "    if j>0:\n",
    "        smI = 0\n",
    "        smD = 0\n",
    "        for l in range(j):\n",
    "            smI += num[l]\n",
    "        for k in range(j,le):\n",
    "            smD += num[k]\n",
    "        \n",
    "        if smI == smD:\n",
    "            cnt +=1\n",
    "        #print(j+1, \"izquierda\", smI, \"derecha\", smD)\n",
    "              \n",
    "#print(\"espejos:\", cnt )\n",
    "print(cnt)"
   ]
  },
  {
   "cell_type": "code",
   "execution_count": 40,
   "id": "5e406888",
   "metadata": {},
   "outputs": [
    {
     "name": "stdout",
     "output_type": "stream",
     "text": [
      "5\n",
      "4\n",
      "3\n",
      "1\n",
      "5\n",
      "2\n",
      "[4.0, 3.0, 1.0, 5.0, 2.0]\n",
      "[1.0, 2.0, 3.0, 4.0, 5.0]\n",
      "3\n",
      "5\n",
      "2\n",
      "1\n",
      "4\n"
     ]
    }
   ],
   "source": [
    "n = int(input())\n",
    "num = []\n",
    "\n",
    "for i in range(n):\n",
    "    x = float(input())\n",
    "    num.append(x)\n",
    "\n",
    "#print(num)\n",
    "\n",
    "num2 = num.copy()    \n",
    "num2.sort()\n",
    "\n",
    "#print(num2)\n",
    "\n",
    "for j in num2:\n",
    "    for l in num:\n",
    "        if l == j:\n",
    "            print(num.index(l)+1)\n",
    "    "
   ]
  },
  {
   "cell_type": "code",
   "execution_count": null,
   "id": "c7981be4",
   "metadata": {},
   "outputs": [],
   "source": [
    "def mltdgt(x):\n",
    "    nums = [\"1\",\"2\",\"3\",\"4\",\"5\"]\n",
    "    a = list(str(x))\n",
    "    \n",
    "    for i in a:\n",
    "        if i in nums:\n",
    "            nums.remove(i)\n",
    "    if len(nums) == 0:\n",
    "        return True\n",
    "t=True\n",
    "\n",
    "while t:\n",
    "    x = int(input())\n",
    "    if x == 0:\n",
    "        break\n",
    "    if mltdgt(x):\n",
    "        print(\"Multidigito\")\n",
    "    else:\n",
    "        print(\"No es multidigito\")"
   ]
  },
  {
   "cell_type": "code",
   "execution_count": 73,
   "id": "195c4577",
   "metadata": {},
   "outputs": [
    {
     "name": "stdout",
     "output_type": "stream",
     "text": [
      "23\n",
      "No pertenece a la serie de Julianachi\n",
      "1\n",
      "Pertenece a la serie de Julianachi\n",
      "2\n",
      "Pertenece a la serie de Julianachi\n",
      "3\n",
      "No pertenece a la serie de Julianachi\n",
      "4\n",
      "Pertenece a la serie de Julianachi\n",
      "5\n",
      "No pertenece a la serie de Julianachi\n",
      "6\n",
      "No pertenece a la serie de Julianachi\n",
      "7\n",
      "Pertenece a la serie de Julianachi\n",
      "8\n",
      "No pertenece a la serie de Julianachi\n",
      "0\n"
     ]
    }
   ],
   "source": [
    "'''\n",
    "para conseguir los valores de la serie\n",
    "------------------------------------------\n",
    "julianachi = [1]\n",
    "\n",
    "for i in julianachi:\n",
    "    if i>5000:\n",
    "        break\n",
    "    div = []\n",
    "    sm = 0\n",
    "    for j in range(1, i+1):\n",
    "        if i%j == 0:\n",
    "            div.append(j) \n",
    "    f = len(div)        \n",
    "    x = i+f\n",
    "    \n",
    "    julianachi.append(x)\n",
    "    print(julianachi)\n",
    "'''\n",
    "    \n",
    "julianachi = [1, 2, 4, 7, 9, 12, 18, 24, 32, 38, 42, 50, 56, 64, 71, 73, 75, 81, 86, 90, 102, 110, 118, 122, 126, 138, 146, 150, 162, 172, 178, 182, 190, 198, 210, 226, 230, 238, 246, 254, 258, 266, 274, 278, 282, 290, 298, 302, 306, 318, 326, 330, 346, 350, 362, 366, 374, 382, 386, 390, 406, 414, 426, 434, 442, 450, 468, 486, 498, 506, 514, 518, 526, 530, 538, 542, 546, 562, 566, 570, 586, 590, 598, 606, 614, 618, 626, 630, 654, 662, 666, 678, 686, 694, 698, 702, 718, 722, 728, 744, 760, 776, 784, 799, 803, 807, 811, 813, 817, 821, 823, 825, 837, 845, 851, 855, 867, 873, 879, 883, 885, 893, 897, 905, 909, 915, 923, 927, 933, 937, 939, 943, 947, 949, 953, 955, 959, 963, 969, 977, 979, 983, 985, 989, 993, 997, 999, 1007, 1011, 1015, 1023, 1031, 1033, 1035, 1047, 1051, 1053, 1063, 1065, 1073, 1077, 1081, 1085, 1093, 1095, 1103, 1105, 1113, 1121, 1125, 1137, 1141, 1145, 1149, 1153, 1155, 1171, 1173, 1181, 1183, 1189, 1193, 1195, 1199, 1203, 1207, 1211, 1215, 1227, 1231, 1233, 1239, 1247, 1251, 1257, 1261, 1265, 1273, 1277, 1279, 1281, 1289, 1291, 1293, 1297, 1299, 1303, 1305, 1317, 1321, 1323, 1335, 1343, 1347, 1351, 1355, 1359, 1365, 1381, 1383, 1387, 1391, 1395, 1407, 1415, 1419, 1427, 1429, 1431, 1439, 1441, 1445, 1451, 1453, 1455, 1463, 1471, 1473, 1477, 1481, 1483, 1485, 1501, 1505, 1513, 1517, 1521, 1530, 1554, 1570, 1578, 1586, 1594, 1598, 1606, 1614, 1622, 1626, 1634, 1642, 1646, 1650, 1674, 1690, 1702, 1710, 1734, 1746, 1758, 1766, 1770, 1786, 1794, 1810, 1818, 1830, 1846, 1854, 1866, 1874, 1878, 1886, 1894, 1898, 1906, 1910, 1918, 1926, 1938, 1954, 1958, 1966, 1970, 1978, 1986, 1994, 1998, 2014, 2022, 2030, 2046, 2062, 2066, 2070, 2094, 2102, 2106, 2126, 2130, 2146, 2154, 2162, 2170, 2186, 2190, 2206, 2210, 2226, 2242, 2250, 2274, 2282, 2290, 2298, 2306, 2310, 2342, 2346, 2362, 2366, 2378, 2386, 2390, 2398, 2406, 2414, 2422, 2430, 2454, 2462, 2466, 2478, 2494, 2502, 2514, 2522, 2530, 2546, 2554, 2558, 2562, 2578, 2582, 2586, 2594, 2598, 2606, 2610, 2634, 2642, 2646, 2670, 2686, 2694, 2702, 2710, 2718, 2730, 2762, 2766, 2774, 2782, 2790, 2814, 2830, 2838, 2854, 2858, 2862, 2878, 2882, 2890, 2902, 2906, 2910, 2926, 2942, 2946, 2954, 2962, 2966, 2970, 3002, 3010, 3026, 3034, 3042, 3060, 3096, 3120, 3160, 3176, 3184, 3194, 3198, 3214, 3218, 3222, 3234, 3258, 3270, 3286, 3294, 3310, 3318, 3334, 3338, 3342, 3350, 3362, 3368, 3376, 3386, 3390, 3406, 3414, 3422, 3430, 3446, 3450, 3474, 3486, 3502, 3510, 3542, 3558, 3566, 3570, 3602, 3606, 3614, 3622, 3626, 3638, 3646, 3650, 3662, 3666, 3682, 3690, 3714, 3722, 3726, 3746, 3750, 3770, 3786, 3794, 3802, 3806, 3814, 3818, 3826, 3830, 3838, 3846, 3854, 3862, 3866, 3870, 3894, 3910, 3926, 3934, 3942, 3958, 3962, 3970, 3978, 4002, 4018, 4030, 4046, 4058, 4062, 4070, 4086, 4098, 4106, 4110, 4126, 4130, 4146, 4154, 4162, 4166, 4170, 4186, 4202, 4210, 4218, 4234, 4242, 4258, 4262, 4266, 4282, 4286, 4290, 4322, 4326, 4342, 4350, 4374, 4390, 4398, 4406, 4410, 4446, 4470, 4486, 4490, 4498, 4506, 4514, 4522, 4538, 4542, 4550, 4574, 4578, 4594, 4598, 4610, 4618, 4622, 4626, 4638, 4646, 4654, 4662, 4686, 4702, 4706, 4714, 4718, 4726, 4734, 4746, 4762, 4766, 4770, 4794, 4810, 4826, 4834, 4838, 4846, 4850, 4862, 4878, 4890, 4906, 4914, 4946, 4950, 4986, 4998, 5022]\n",
    "\n",
    "t=True\n",
    "\n",
    "while t:\n",
    "    x = int(input())\n",
    "    if x == 0:\n",
    "        break\n",
    "    if x in julianachi:\n",
    "        print(\"Pertenece a la serie de Julianachi\")\n",
    "    else:\n",
    "        print(\"No pertenece a la serie de Julianachi\")"
   ]
  },
  {
   "cell_type": "code",
   "execution_count": 22,
   "id": "7db81701",
   "metadata": {},
   "outputs": [
    {
     "name": "stdout",
     "output_type": "stream",
     "text": [
      "0\n"
     ]
    }
   ],
   "source": [
    "'''\n",
    " Escalera normal --- 1,2,3,4,5\n",
    " Color --- D,D,D,D,D\n",
    " Escalera de color --- 1D,2D,3D,4D,5D\n",
    " Escalera real --- 10D,11D,12D,13D,14D\n",
    " Otra mano \n",
    " D = DIAMANTES\n",
    "'''\n",
    "def manos(v,p):\n",
    "    \n",
    "    v.sort()\n",
    "    ENORMAL = False\n",
    "    COLOR = False\n",
    "    \n",
    "    if v[0]+1 == v[1] and v[1]+1 == v[2] and v[2]+1 == v[3] and v[3]+1 == v[4]:\n",
    "        ENORMAL = True\n",
    "              \n",
    "    '''\n",
    "    #Para agregar escalera a CASOS DONDE SE USA EL AS(14),2,3,.. (es decir casos donde la mano pasa por 14 y 2)\n",
    "    en realidad no se si vale como escalera en estos casos\n",
    "    if v == [2,11,12,13,14] or v == [2,3,12,13,14] or v == [2,3,4,13,14] or v == [2,3,4,5,14]:\n",
    "        ENORMAL = True\n",
    "    '''   \n",
    "            \n",
    "    if p.count(p[0]) == 5:\n",
    "        COLOR = True\n",
    "\n",
    "    if ENORMAL and COLOR and v[0] == 10:                    \n",
    "        return(\"Escalera real\")\n",
    "    elif ENORMAL and COLOR:\n",
    "        return(\"Escalera de color\")\n",
    "    elif ENORMAL:\n",
    "        return(\"Escalera normal\")\n",
    "    elif COLOR:\n",
    "        return(\"Color\") \n",
    "    else:\n",
    "        return(\"Otra mano\")\n",
    "    \n",
    "M = int(input())\n",
    "\n",
    "while M!=0:\n",
    "    val_mano = []\n",
    "    palo_mano = []\n",
    "    \n",
    "    for i in range(5):     \n",
    "        val = int(input())\n",
    "        val_mano.append(val)\n",
    "        \n",
    "        palo = input()\n",
    "        palo_mano.append(palo)\n",
    "        \n",
    "    print(manos(val_mano,palo_mano))    \n",
    "    \n",
    "    M-=1"
   ]
  },
  {
   "cell_type": "code",
   "execution_count": 21,
   "id": "d6fa80e5",
   "metadata": {},
   "outputs": [
    {
     "name": "stdout",
     "output_type": "stream",
     "text": [
      "8\n"
     ]
    }
   ],
   "source": [
    "#Escribe una función llamada \"calcular_potencia\" que reciba dos valores numéricos \n",
    "#(base y potencia respectivamente) y *muestre por pantalla* el resultado de la base dada, elevado a la potencia dada.\n",
    "def calcular_potencia(b,p):\n",
    "    print(b**p)\n",
    "    \n",
    "calcular_potencia(2,3)"
   ]
  },
  {
   "cell_type": "code",
   "execution_count": 3,
   "id": "963da75e",
   "metadata": {},
   "outputs": [
    {
     "name": "stdout",
     "output_type": "stream",
     "text": [
      "4\n",
      "obelix\n",
      "Galo\n",
      "julianicus\n",
      "Romano\n",
      "pedro\n",
      "Desconocido\n",
      "nicolax\n",
      "Breton\n"
     ]
    }
   ],
   "source": [
    "n = int(input())\n",
    "\n",
    "def procd(x):\n",
    "   \n",
    "    if x.endswith(\"ix\"):\n",
    "        return(\"Galo\")\n",
    "    if x.endswith(\"us\"):\n",
    "        return(\"Romano\")\n",
    "    if x.endswith(\"ic\"):\n",
    "        return(\"Godo\")\n",
    "    if x.endswith(\"as\"):\n",
    "        return(\"Griego\")\n",
    "    if x.endswith(\"af\"):\n",
    "        return(\"Normando\")\n",
    "    if x.endswith(\"ez\"):\n",
    "        return(\"Hispano\")\n",
    "    if x.endswith(\"is\") or x.endswith(\"ax\"):\n",
    "        return(\"Breton\")\n",
    "    if x.endswith(\"a\"):\n",
    "        return(\"Indio\")\n",
    "    \n",
    "    return(\"Desconocido\")\n",
    "\n",
    "for i in range(n):\n",
    "    nom = input()\n",
    "    print(procd(nom))"
   ]
  },
  {
   "cell_type": "code",
   "execution_count": 8,
   "id": "7baba100",
   "metadata": {},
   "outputs": [
    {
     "name": "stdout",
     "output_type": "stream",
     "text": [
      "1\n",
      "IAN373 PPP555 RRR777 BBB333 ZZZ999\n",
      "Al menos otro auto es mas viejo que mi cacharrito :(\n"
     ]
    }
   ],
   "source": [
    "def viejo(x):\n",
    "    placas = x.split()\n",
    "    placa = placas[0]\n",
    "    placas.pop(0)\n",
    "    \n",
    "    V = True\n",
    "    for p in placas:\n",
    "        if p<placa:\n",
    "            V = False\n",
    "            break\n",
    "    if V:\n",
    "        return(\"Mi cacharrito es el mas viejo de todos los autos ;D\")\n",
    "    return(\"Al menos otro auto es mas viejo que mi cacharrito :(\")\n",
    "        \n",
    "\n",
    "n = int(input())\n",
    "for i in range(n):\n",
    "    c = input()\n",
    "    print(viejo(c))"
   ]
  },
  {
   "cell_type": "code",
   "execution_count": 107,
   "id": "e72eb928",
   "metadata": {},
   "outputs": [
    {
     "name": "stdout",
     "output_type": "stream",
     "text": [
      "1\n",
      "aeio\n",
      "[True, True, True, True, False]\n",
      "No es panvocalica\n"
     ]
    }
   ],
   "source": [
    "def panvcl(x):\n",
    "    vocales = [\"a\",\"e\",\"i\",\"o\",\"u\"]\n",
    "    \n",
    "    if all(i in x for i in vocales): return(\"Panvocalica\") # o, if \"a\" in x and \"e\" in x and \"i\" in x and \"o\" in x and \"u\" in x:\n",
    "    #(i in x) es el resultado (booleano) que se mete a la lista que crea el for y el all mira que todo en la lista sea True, esta funcion ya retorna true o false \n",
    "    #print(list(i in x for i in vocales))\n",
    "    return(\"No es panvocalica\")\n",
    "    \n",
    "\n",
    "\n",
    "n = int(input())\n",
    "for i in range(n):\n",
    "    p = input()\n",
    "    print(panvcl(p))"
   ]
  },
  {
   "cell_type": "code",
   "execution_count": 31,
   "id": "dfa9017e",
   "metadata": {},
   "outputs": [
    {
     "name": "stdout",
     "output_type": "stream",
     "text": [
      "2\n",
      "FM\n",
      "Es posible hacer un unico circulo\n",
      "FM\n",
      "Es posible hacer un unico circulo\n"
     ]
    }
   ],
   "source": [
    "def crcl(x):\n",
    "   \n",
    "    if x.count(\"M\") == x.count(\"F\"):\n",
    "        return(\"Es posible hacer un unico circulo\")\n",
    "    return(\"No es posible\")\n",
    "    \n",
    "n = int(input())\n",
    "for i in range(n):\n",
    "    x = input()\n",
    "    print(crcl(x))"
   ]
  },
  {
   "cell_type": "code",
   "execution_count": 30,
   "id": "a8c8b3cb",
   "metadata": {},
   "outputs": [
    {
     "name": "stdout",
     "output_type": "stream",
     "text": [
      "1\n",
      "cantidad_de_usuarios\n",
      "CantidadDeUsuarios\n"
     ]
    }
   ],
   "source": [
    "def SnkCml(x):\n",
    "    return(x.title().replace(\"_\",\"\"))\n",
    "\n",
    "n = int(input())\n",
    "for i in range(n):\n",
    "    x = input()\n",
    "    print(SnkCml(x))"
   ]
  },
  {
   "cell_type": "code",
   "execution_count": 29,
   "id": "db1bfd10",
   "metadata": {
    "scrolled": true
   },
   "outputs": [
    {
     "ename": "FileNotFoundError",
     "evalue": "[Errno 2] No such file or directory: 'mensaje.txt'",
     "output_type": "error",
     "traceback": [
      "\u001b[1;31m---------------------------------------------------------------------------\u001b[0m",
      "\u001b[1;31mFileNotFoundError\u001b[0m                         Traceback (most recent call last)",
      "Input \u001b[1;32mIn [29]\u001b[0m, in \u001b[0;36m<cell line: 13>\u001b[1;34m()\u001b[0m\n\u001b[0;32m     10\u001b[0m             MSG\u001b[38;5;241m.\u001b[39minsert(i,m[n\u001b[38;5;241m-\u001b[39m\u001b[38;5;241m1\u001b[39m\u001b[38;5;241m-\u001b[39mi]) \n\u001b[0;32m     11\u001b[0m         \u001b[38;5;28mprint\u001b[39m(\u001b[38;5;124m\"\u001b[39m\u001b[38;5;124m\"\u001b[39m\u001b[38;5;241m.\u001b[39mjoin(MSG), end \u001b[38;5;241m=\u001b[39m \u001b[38;5;124m\"\u001b[39m\u001b[38;5;130;01m\\n\u001b[39;00m\u001b[38;5;124m\"\u001b[39m)\n\u001b[1;32m---> 13\u001b[0m archivo \u001b[38;5;241m=\u001b[39m \u001b[38;5;28;43mopen\u001b[39;49m\u001b[43m(\u001b[49m\u001b[38;5;124;43m\"\u001b[39;49m\u001b[38;5;124;43mmensaje.txt\u001b[39;49m\u001b[38;5;124;43m\"\u001b[39;49m\u001b[43m,\u001b[49m\u001b[43m \u001b[49m\u001b[38;5;124;43m\"\u001b[39;49m\u001b[38;5;124;43mr\u001b[39;49m\u001b[38;5;124;43m\"\u001b[39;49m\u001b[43m)\u001b[49m\n\u001b[0;32m     14\u001b[0m msg \u001b[38;5;241m=\u001b[39m archivo\u001b[38;5;241m.\u001b[39mread()\n\u001b[0;32m     15\u001b[0m archivo\u001b[38;5;241m.\u001b[39mclose()\n",
      "\u001b[1;31mFileNotFoundError\u001b[0m: [Errno 2] No such file or directory: 'mensaje.txt'"
     ]
    }
   ],
   "source": [
    "def encrp(x):\n",
    "    y = x.replace(\"\\\\n\", \"\\n\")\n",
    "    rgl = y.split(\"\\n\")\n",
    "    #print(rgl)\n",
    "    for o in rgl:\n",
    "        MSG = []\n",
    "        n = len(o)\n",
    "        m = list(o)\n",
    "        for i in range(n):\n",
    "            MSG.insert(i,m[n-1-i]) \n",
    "        print(\"\".join(MSG), end = \"\\n\")\n",
    "\n",
    "archivo = open(\"mensaje.txt\", \"r\")\n",
    "msg = archivo.read()\n",
    "archivo.close()\n",
    "encrp(msg)\n",
    "\n",
    "\"\"\"\n",
    "la mariposa revolotea\n",
    "como si desesperara\n",
    "en este mundo\n",
    "\"\"\""
   ]
  },
  {
   "cell_type": "code",
   "execution_count": 57,
   "id": "2e747b97",
   "metadata": {},
   "outputs": [
    {
     "name": "stdout",
     "output_type": "stream",
     "text": [
      "Opositivos 1 Causativos 0\n",
      "Opositivos 1 Causativos 1\n",
      "Opositivos 0 Causativos 0\n",
      "Opositivos 0 Causativos 2\n"
     ]
    }
   ],
   "source": [
    "archivo = open(\"conversaciones.txt\", \"r\")\n",
    "msg = archivo.read()\n",
    "archivo.close()\n",
    "\n",
    "def OpsCaus(x):\n",
    "    caus = 0\n",
    "    ops= 0\n",
    "    cv = x.lower().split(\"\\n\")\n",
    "    \n",
    "    causativos = [\"por tanto\", \"dado que\", \"por consiguiente\", \"asi pues\", \"por ende\"]\n",
    "    opositivos = [\"sin embargo\", \"no obstante\", \"ahora bien\", \"aun asi\"]\n",
    "    \n",
    "    for linea in cv:\n",
    "        caus = 0\n",
    "        ops= 0 \n",
    "        for i in causativos:\n",
    "            caus += linea.count(i)\n",
    "        for o in opositivos:\n",
    "            ops += linea.count(o) \n",
    "        print(\"Opositivos\",ops, \"Causativos\",caus)\n",
    "        \n",
    "#print(msg,\"\\n\") \n",
    "OpsCaus(msg)\n",
    "\n",
    "\"\"\"Fue una gran perdida. Aun asi, mi cliente no es el asesino.\n",
    "Ahora bien, es culpable, por tanto debe ir a prision.\n",
    "Respetados miembros del jurado, no les quede duda de su inocencia.\n",
    "Por consiguiente, fue defensa propia dado que no tuvo otra opcion.\"\"\""
   ]
  },
  {
   "cell_type": "code",
   "execution_count": 161,
   "id": "bd90fe67",
   "metadata": {},
   "outputs": [
    {
     "name": "stdout",
     "output_type": "stream",
     "text": [
      "Es trifelio\n",
      "No es trifelio\n",
      "No es trifelio\n",
      "Es trifelio\n",
      "No es trifelio\n",
      "No es trifelio\n"
     ]
    },
    {
     "data": {
      "text/plain": [
       "'gato-toga\\ncodigo-digolo\\npato-topo\\nel-le\\nbronca-cabron\\nadios-diosa'"
      ]
     },
     "execution_count": 161,
     "metadata": {},
     "output_type": "execute_result"
    }
   ],
   "source": [
    "archivo = open(\"trifelios.txt\", \"r\")\n",
    "txt = archivo.read()\n",
    "archivo.close()\n",
    "\n",
    "lineas = txt.split(\"\\n\")\n",
    "for linea in lineas:\n",
    "    trifelio = []\n",
    "    palabras = linea.split(\"-\")\n",
    "    #print(palabras)\n",
    "    tmn = len(palabras[0])\n",
    "    for i in palabras:\n",
    "        y = list(i)\n",
    "        y.insert(tmn//2,\" \")\n",
    "        silabas = \"\".join(y).split(\" \")\n",
    "        for o in silabas:\n",
    "            trifelio.append(o)\n",
    "    \n",
    "    if trifelio[0] == trifelio[3]:\n",
    "        print(\"Es trifelio\")\n",
    "    else:\n",
    "        print(\"No es trifelio\")\n",
    "    #sta malo para casos como adios-diosa o cabron-bronca\n",
    "    \n",
    "\"\"\"gato-toga\n",
    "codigo-digolo\n",
    "pato-topo\n",
    "el-le\n",
    "bronca-cabron\n",
    "adios-diosa\"\"\""
   ]
  },
  {
   "cell_type": "code",
   "execution_count": 163,
   "id": "0a7d41d5",
   "metadata": {},
   "outputs": [
    {
     "name": "stdout",
     "output_type": "stream",
     "text": [
      "ca-la-ba-za\n"
     ]
    }
   ],
   "source": [
    "import pyphen   #silabas\n",
    "\n",
    "a = pyphen.Pyphen(lang='es')\n",
    "print(a.inserted('calabaza'))"
   ]
  },
  {
   "cell_type": "code",
   "execution_count": 61,
   "id": "d6ea9123",
   "metadata": {},
   "outputs": [
    {
     "name": "stdout",
     "output_type": "stream",
     "text": [
      "abc\n",
      "100\n"
     ]
    }
   ],
   "source": [
    "def test():  #ejemplo de retornar 2 cosas\n",
    "    return 'abc', 100\n",
    "print(test()[0])\n",
    "print(test()[1])"
   ]
  },
  {
   "cell_type": "code",
   "execution_count": 137,
   "id": "e889d26a",
   "metadata": {},
   "outputs": [
    {
     "name": "stdout",
     "output_type": "stream",
     "text": [
      "cadena completa\n",
      "cadena rota\n",
      "cadena completa\n",
      "cadena rota\n"
     ]
    },
    {
     "data": {
      "text/plain": [
       "'gato toma mapa\\npadre madre\\nraza zapato toronja jazmin minuta tapa aparato\\npedro dron naranja'"
      ]
     },
     "execution_count": 137,
     "metadata": {},
     "output_type": "execute_result"
    }
   ],
   "source": [
    "archivo = open(\"cadena.txt\", \"r\")\n",
    "txt = archivo.read()\n",
    "archivo.close()\n",
    "\n",
    "lineas = txt.split(\"\\n\")\n",
    "\n",
    "for linea in lineas:\n",
    "    x = linea.split()\n",
    "    cadena = True\n",
    "    for i in x:\n",
    "        if i == x[0]:\n",
    "            letras1 = i[-3]+i[-2]+i[-1]\n",
    "            letras2 = i[-2]+i[-1]\n",
    "        else:\n",
    "            if i.startswith(letras1) or i.startswith(letras2):\n",
    "                pass\n",
    "                #print(\"+\")\n",
    "            else:\n",
    "                #print(\"-\")\n",
    "                cadena = False\n",
    "                break\n",
    "        letras1 = i[-3]+i[-2]+i[-1]\n",
    "        letras2 = i[-2]+i[-1]\n",
    "        #print(letras1, \"tres\")\n",
    "        #print(letras2, \"dos\")\n",
    "    if cadena:\n",
    "        print(\"cadena completa\")\n",
    "    else:\n",
    "        print(\"cadena rota\")\n",
    "        \n",
    "\"\"\"\n",
    "gato toma mapa\n",
    "padre madre\n",
    "raza zapato toronja jazmin minuta tapa aparato\n",
    "pedro dron naranja\"\"\""
   ]
  },
  {
   "cell_type": "code",
   "execution_count": 94,
   "id": "6a578beb",
   "metadata": {},
   "outputs": [
    {
     "name": "stdout",
     "output_type": "stream",
     "text": [
      "5\n",
      "M 31 positiva 6\n",
      "F 32 positiva 10\n",
      "M 33 positiva 10\n",
      "F 34 positiva 10\n",
      "M 35 positiva 10\n",
      "[['35', 'POSITIVA', '10'], ['34', 'POSITIVA', '10'], ['33', 'POSITIVA', '10'], ['32', 'POSITIVA', '10'], ['31', 'POSITIVA', '6']]\n",
      "35 POSITIVA 10\n",
      "34 POSITIVA 10\n",
      "33 POSITIVA 10\n",
      "32 POSITIVA 10\n",
      "31 POSITIVA 6\n"
     ]
    }
   ],
   "source": [
    "n = int(input())\n",
    "\n",
    "datos = []\n",
    "for i in range(n):\n",
    "    dato = input().upper()\n",
    "    dat = dato.split()\n",
    "    dat.pop(0)\n",
    "    datos.append(dat)\n",
    "    #print(datos)\n",
    "    \n",
    "positivas = []    \n",
    "for d in datos:\n",
    "    if list(d)[1] == \"POSITIVA\": \n",
    "        positivas.append(d)\n",
    "        \n",
    "positivas.sort(reverse=True,key=lambda x:(int(x[2]), x[0]))\n",
    "\n",
    "#print(positivas)\n",
    "\n",
    "for k in positivas:\n",
    "    print(\" \".join(k))"
   ]
  },
  {
   "cell_type": "code",
   "execution_count": 22,
   "id": "b3f7a9a4",
   "metadata": {},
   "outputs": [
    {
     "name": "stdout",
     "output_type": "stream",
     "text": [
      "1\n",
      "888888, 8, 8, 8, 8, 8, 8, 8, 8, 8, 8, 8, 8\n",
      "888888 4.0\n"
     ]
    }
   ],
   "source": [
    "n = int(input())\n",
    "\n",
    "dtos = []\n",
    "for i in range(n):\n",
    "    dato = input().split(\",\")\n",
    "    dtos.append(dato)\n",
    "\n",
    "datos = []\n",
    "for l in dtos:\n",
    "    intermedia = []\n",
    "    #print(l)\n",
    "    for d in l:\n",
    "        #print(d.strip()) sobra el strip a d, como que a int no le importa el espacio\n",
    "        intermedia.append(int(d)) \n",
    "    datos.append(intermedia)\n",
    "    #print(datos)\n",
    "    \n",
    "datos.sort(key = lambda x: x[0])    \n",
    "\n",
    "puntos = [\"0\", 9, 11, 12, 8, 12, 9, 11, 8, 11, 10, 9, 10]\n",
    "clfs = {}\n",
    "\n",
    "for dt in datos:\n",
    "    clf = 0\n",
    "    \n",
    "    for n in range(13):\n",
    "        key = dt[0]\n",
    "        if n == 0:\n",
    "             continue\n",
    "        clf += round((dt[n]/puntos[n])*5, 1)\n",
    "    clf /= 12\n",
    "    clfs[key] = clf\n",
    "\n",
    "#print(clfs)\n",
    "for cl in clfs:\n",
    "    print(cl, round(clfs[cl],1))\n"
   ]
  },
  {
   "cell_type": "code",
   "execution_count": 24,
   "id": "bde1a02c",
   "metadata": {
    "scrolled": true
   },
   "outputs": [
    {
     "name": "stdout",
     "output_type": "stream",
     "text": [
      "1\n",
      "Peppa Pig, 26.6, 1.0, 101, 151\n",
      "['Peppa Pig', ' 26.6', ' 1.0', ' 101', ' 151']\n",
      "1 Peppa Pig 26.6\n"
     ]
    }
   ],
   "source": [
    "e = int(input())\n",
    "empleados = []\n",
    "for i in range(e):\n",
    "    emp = input()\n",
    "    emp = emp.split(\",\")\n",
    "    #print(emp)\n",
    "    empleados.append(emp)\n",
    "    \n",
    "#print(\"empleados\",empleados)\n",
    "empleadosimc = empleados.copy()\n",
    "\n",
    "for empleado in empleados:\n",
    "    #print(\"empleado\",empleado)\n",
    "    valempleado = [float(x) for x in empleado if x != empleado[0]] \n",
    "    #print(\"valores:\", valempleado)\n",
    "    imc = round(valempleado[0]/valempleado[1]**2, 1)\n",
    "    \n",
    "    if valempleado[2]>100 and valempleado[3]>150 and imc>25:\n",
    "        empleadosimc.append([empleado[0],imc])\n",
    "    empleadosimc.remove(empleado)\n",
    "    \n",
    "#print(empleadosimc)        \n",
    "empleadosimc.sort(reverse= True, key = lambda x: (x[1],x[0]))\n",
    "#print(empleadosimc)\n",
    "\n",
    "for l in range(len(empleadosimc)):\n",
    "    print(l+1, empleadosimc[l][0], empleadosimc[l][1])"
   ]
  },
  {
   "cell_type": "code",
   "execution_count": 240,
   "id": "6768b8f0",
   "metadata": {},
   "outputs": [
    {
     "name": "stdout",
     "output_type": "stream",
     "text": [
      "1\n",
      "Rocket raccoon: 13\n",
      "El vendedor del mes es Rocket raccoon\n",
      "[13]\n"
     ]
    }
   ],
   "source": [
    "n = int(input())\n",
    "canvendedores = []\n",
    "alias = []\n",
    "for i in range(n):\n",
    "    vendedor = input()\n",
    "    canvendedores.append(int(vendedor.split(\":\")[1]))\n",
    "    alias.append(vendedor.split(\":\")[0])\n",
    "\n",
    "print(\"El vendedor del mes es\", alias[canvendedores.index(max(canvendedores))])\n",
    "#print(max(canvendedores))\n",
    "print(canvendedores)\n",
    "print(alias)\n",
    "#falta por acabar     "
   ]
  },
  {
   "cell_type": "code",
   "execution_count": 65,
   "id": "2dc8dbbe",
   "metadata": {},
   "outputs": [
    {
     "name": "stdout",
     "output_type": "stream",
     "text": [
      "1\n",
      "Japon 2020-04-07 2020-05-06\n",
      "29 dias = 696 horas = 41760 minutos = 2505600 segundos\n"
     ]
    }
   ],
   "source": [
    "import datetime as dt\n",
    "def duracionCtn(x):\n",
    "    datos = x.split(\" \")\n",
    "    if len(datos)==3:\n",
    "        fechainc = datos[-2].split(\"-\") \n",
    "        fechafin = datos[-1].split(\"-\")\n",
    "    else:\n",
    "        fechainc = datos[-2].split(\"_\") \n",
    "        fechafin = datos[-1].split(\"_\")\n",
    "        \n",
    "    final = dt.date(int(fechafin[0]),int(fechafin[1]),int(fechafin[2]))\n",
    "    inicial = dt.date(int(fechainc[0]),int(fechainc[1]),int(fechainc[2]))\n",
    "        \n",
    "    dur = (final-inicial).days \n",
    "    return dur\n",
    "\n",
    "c = int(input())\n",
    "\n",
    "for i in range(c):\n",
    "    fechas = input()\n",
    "    duracion = duracionCtn(fechas)\n",
    "    print(duracion,\"dias =\", duracion*24, \"horas =\", duracion*24*60, \"minutos =\", duracion*24*60*60, \"segundos\")"
   ]
  },
  {
   "cell_type": "code",
   "execution_count": 37,
   "id": "6f9f8352",
   "metadata": {
    "scrolled": true
   },
   "outputs": [
    {
     "name": "stdout",
     "output_type": "stream",
     "text": [
      "1\n",
      "2000-01-04 20:20:20\n",
      "true vampires 0\n",
      "early birds 0\n",
      "sunny warmers 0\n",
      "lunch workers 0\n",
      "sunset lovers 0\n",
      "prime timers 1\n"
     ]
    }
   ],
   "source": [
    "import datetime as dt\n",
    "def hTrb(x):\n",
    "    tx = x.split(\" \")\n",
    "    #print(tx)\n",
    "    hora = tx[1].split(\":\")\n",
    "    #print(hora)\n",
    "    h = [int(i) for i in hora]\n",
    "    tiempo = dt.time(h[0],h[1],h[2])\n",
    "    #print(tiempo)\n",
    "    p = 0\n",
    "    o = 3\n",
    "    for j in range(6):\n",
    "        inicio = dt.time(p,0,0)\n",
    "        final = dt.time(o,59,59)\n",
    "        #print(inicio,tiempo,final)\n",
    "        #print(inicio<=tiempo<=final)\n",
    "        if inicio<=tiempo<=final:\n",
    "            return j+1\n",
    "        p+=4\n",
    "        o+=4\n",
    "\n",
    "clfs = [[\"true vampires\",0],[\"early birds\",0],[\"sunny warmers\",0],[\"lunch workers\",0],[\"sunset lovers\",0],[\"prime timers\",0]]\n",
    "\n",
    "n = int(input())\n",
    "for i in range(n):\n",
    "    hora = input()\n",
    "    clasificado = hTrb(hora)\n",
    "    #print(clasificado)\n",
    "    for h in range(6):\n",
    "        if clasificado == h+1:\n",
    "            clfs[h][1] += 1     \n",
    "for l in clfs:\n",
    "    print(l[0],l[1])"
   ]
  },
  {
   "cell_type": "code",
   "execution_count": 81,
   "id": "6dd98164",
   "metadata": {},
   "outputs": [
    {
     "name": "stdout",
     "output_type": "stream",
     "text": [
      "1\n",
      "f 3\n",
      "Gana el humano\n"
     ]
    }
   ],
   "source": [
    "import random\n",
    "\n",
    "def tirada():\n",
    "    total = random.randint(1,6)+random.randint(1,6)\n",
    "    #print(total)\n",
    "    return total\n",
    "    \n",
    "n = int(input())\n",
    "for i in range(n):\n",
    "    entrada = input()\n",
    "    datos = entrada.split(\" \")\n",
    "    plataforma = int(datos[1]) \n",
    "    persona = tirada()\n",
    "    \n",
    "    if plataforma > persona: \n",
    "        print(\"Gana la plataforma\")\n",
    "    elif plataforma < persona: \n",
    "        print(\"Gana el humano\")\n",
    "    else: \n",
    "        print(\"Empate\")"
   ]
  },
  {
   "cell_type": "code",
   "execution_count": 147,
   "id": "80141784",
   "metadata": {},
   "outputs": [
    {
     "name": "stdout",
     "output_type": "stream",
     "text": [
      "1\n",
      "11:59:59 PM\n",
      "Loading day ... 99.999%\n"
     ]
    }
   ],
   "source": [
    "import datetime as dt\n",
    "def loading(x):\n",
    "    h = dt.datetime.strptime(x, \"%I:%M:%S %p\") #da un datetime\n",
    "    tiempo = h.strftime(\"%H:%M:%S\") #da un string\n",
    "    #print(tiempo)\n",
    "    t_ = tiempo.split(\":\") #una lista intermedia\n",
    "    #print(t_)\n",
    "    t = dt.time(int(t_[0]),int(t_[1]),int(t_[2])) #pasar de string en tiempo a time a partir de la lista t_\n",
    "    #print(tiempo)\n",
    "    dif = dt.datetime.combine(dt.date.today(), t)-dt.datetime.combine(dt.date.today(), dt.time(0,0,0))  #para tener deltatime y poder usar .totalseconds\n",
    "    #print(dif)\n",
    "    segundos = dif.total_seconds()\n",
    "    porcentaje = round(segundos*100/86400,3) \n",
    "    return porcentaje\n",
    "    \n",
    "n = int(input())\n",
    "for i in range(n):\n",
    "    hora = input()\n",
    "    print(\"Loading day ...\", str(loading(hora))+\"%\")"
   ]
  },
  {
   "cell_type": "code",
   "execution_count": 2,
   "id": "1a6a78da",
   "metadata": {},
   "outputs": [
    {
     "name": "stdout",
     "output_type": "stream",
     "text": [
      "1\n",
      "2020-06-22, barberia, 15:00:00, 16:59:59\n",
      "1 veces\n",
      "1 horas, 59 minutos, 59 segundos\n"
     ]
    }
   ],
   "source": [
    "import datetime as dt\n",
    "def barberia(x):\n",
    "    veces = len(x)\n",
    "    t = 0\n",
    "    for k in x:\n",
    "        duracionvisita = dt.datetime.combine(dt.datetime(1,1,1,0,0,0), dt.datetime.strptime(k[-1], \" %H:%M:%S\").time()) - dt.datetime.combine(dt.datetime(1,1,1,0,0,0),dt.datetime.strptime(k[-2], \" %H:%M:%S\").time())           \n",
    "        t += duracionvisita.total_seconds()\n",
    "    promedio = t/veces  #en segundos\n",
    "    return veces, promedio\n",
    "\n",
    "registros = []\n",
    "n= int(input())\n",
    "for i in range(n):\n",
    "    registro = input().split(\",\")\n",
    "    if registro[1] == \" barberia\":\n",
    "        registros.append(registro)\n",
    "#print(registros)\n",
    "    \n",
    "y = barberia(registros)\n",
    "h = int((y[1]//3600))\n",
    "m = int(((y[1]%3600) // 60))\n",
    "s = int((y[1]%3600)%60)\n",
    "print(y[0], \"veces\")\n",
    "print(h,\"horas,\",m,\"minutos,\",s,\"segundos\")\n"
   ]
  },
  {
   "cell_type": "code",
   "execution_count": 1,
   "id": "85c5a508",
   "metadata": {
    "scrolled": true
   },
   "outputs": [
    {
     "name": "stdout",
     "output_type": "stream",
     "text": [
      "1\n",
      "2000/01/01 20\n",
      "3\n"
     ]
    }
   ],
   "source": [
    "import datetime as dt\n",
    "\n",
    "def ctslunes(x):\n",
    "    años = int(x[1])\n",
    "    lunes = 0\n",
    "    nacimiento = x[0]\n",
    "    \"\"\"esas dos funciones sobran pero es bueno tenerlas claras (aunque es mas rapido usando las funciones[se supone])\n",
    "    #n = dt.datetime.strptime(x[0],\"%Y/%m/%d\") # de un string dado en el formato indicado devuelve datetime(fecha y hora)\n",
    "    #nacimiento = dt.datetime.strftime(n,\"%Y %m %d\") # de un datetime devuelve string en el formato indicado \n",
    "    \"\"\"\n",
    "    datos = nacimiento.split(\"/\") #usando las funciones de datetime seria split()\n",
    "    datos = [int(i) for i in datos] # para volver los datos en int, los necesito int para la funcion date() y para el contador, es una list comprehension\n",
    "\n",
    "    año = datos[0]\n",
    "    mes = datos[1]\n",
    "    dia = datos[2]\n",
    "    for i in range(años):\n",
    "        año += 1\n",
    "        cumpleaños = dt.datetime.weekday(dt.date(año,mes,dia))\n",
    "        if cumpleaños == 0: #0 = lunes en la funcion weekday de la clase datetime\n",
    "            lunes +=1    \n",
    "    #print(año)\n",
    "    return lunes\n",
    "\n",
    "n = int(input())\n",
    "for i in range(n):\n",
    "    fecha = input().split()\n",
    "    print(ctslunes(fecha))\n"
   ]
  },
  {
   "cell_type": "code",
   "execution_count": 59,
   "id": "d80ce764",
   "metadata": {},
   "outputs": [
    {
     "name": "stdout",
     "output_type": "stream",
     "text": [
      "1\n",
      "aprender a programar : nadar me preocupa\n",
      "No es anagrama\n"
     ]
    }
   ],
   "source": [
    "def anagrama(x):\n",
    "    palabras = x.replace(\" \",\"\").split(\":\")\n",
    "    uno = palabras[0]\n",
    "    dos = palabras[1]\n",
    "    etiqueta = \"Es anagrama\"\n",
    "    for j in uno: \n",
    "    #se podria hacer que no cuente el numero de una letra mas de una vez, es decir en \"casa\", solo revise la a una vez\n",
    "        if dos.count(j) != uno.count(j):\n",
    "            etiqueta = \"No es anagrama\"\n",
    "            break\n",
    "    return  etiqueta\n",
    "    \n",
    "n = int(input())\n",
    "for i in range(n):\n",
    "    txt = input()\n",
    "    print(anagrama(txt))"
   ]
  },
  {
   "cell_type": "code",
   "execution_count": 111,
   "id": "ecec8989",
   "metadata": {},
   "outputs": [
    {
     "name": "stdout",
     "output_type": "stream",
     "text": [
      "5\n",
      "2000-01-03 01:10:00\n",
      "2000-01-04 06:10:15\n",
      "2000-01-08 13:20:20\n",
      "2000-01-13 19:40:45\n",
      "2000-01-15 23:55:59\n",
      "1 dias, 5 horas, 0 minutos, 15 segundos\n",
      "4 dias, 7 horas, 10 minutos, 5 segundos\n",
      "5 dias, 6 horas, 20 minutos, 25 segundos\n",
      "2 dias, 4 horas, 15 minutos, 14 segundos\n",
      "\n",
      "Promedio: 3 dias, 5 horas, 41 minutos, 29 segundos\n"
     ]
    }
   ],
   "source": [
    "import datetime as dt\n",
    "def t_entre_y_prom(x):\n",
    "    t_entre = []\n",
    "    suma = 0\n",
    "    \n",
    "    for j in range(n):\n",
    "        if j == n-1:\n",
    "            break\n",
    "        fecha1 = dt.datetime.strptime(x[j],\"%Y-%m-%d %H:%M:%S\")\n",
    "        fecha2 = dt.datetime.strptime(x[j+1], \"%Y-%m-%d %H:%M:%S\")\n",
    "        t_entre.append(fecha2-fecha1) \n",
    "        \n",
    "    for k in t_entre:\n",
    "        suma += k.total_seconds()\n",
    "        \n",
    "    prom = suma/(n-1) #en segundos, promedio de tiempos entre fechas\n",
    "    \n",
    "    return t_entre, prom\n",
    "        \n",
    "n = int(input())\n",
    "fechas = []\n",
    "for i in range(n):\n",
    "    fecha = input()\n",
    "    fechas.append(fecha)\n",
    "    \n",
    "y = t_entre_y_prom(fechas)\n",
    "\n",
    "for l in y[0]:\n",
    "    t = l.total_seconds()\n",
    "    h = int((t//3600)- 24*l.days)\n",
    "    m = int(((t%3600) // 60))\n",
    "    s = int((t%3600)%60)\n",
    "    print(l.days,\"dias,\",h,\"horas,\",m,\"minutos,\",s,\"segundos\")\n",
    "\n",
    "diasprom = int(y[1]//86400)\n",
    "horasprom = int((y[1]//3600)-(24*diasprom))\n",
    "minutosprom = int(((y[1]%3600) // 60))\n",
    "segundosprom = int((y[1]%3600)%60) \n",
    "\n",
    "print(\"\\nPromedio:\",diasprom,\"dias,\",horasprom,\"horas,\",minutosprom,\"minutos,\",segundosprom,\"segundos\")\n"
   ]
  },
  {
   "cell_type": "markdown",
   "id": "0a005ee6",
   "metadata": {},
   "source": [
    "2000-01-01 00:00:00\n",
    "2000-01-02 12:30:45\n",
    "\n",
    "2000-01-03 01:10:00\n",
    "2000-01-04 06:10:15\n",
    "2000-01-08 13:20:20\n",
    "2000-01-13 19:40:45\n",
    "2000-01-15 23:55:59"
   ]
  },
  {
   "cell_type": "code",
   "execution_count": 76,
   "id": "f275453c",
   "metadata": {},
   "outputs": [
    {
     "name": "stdout",
     "output_type": "stream",
     "text": [
      "104\n",
      "2228.8\n",
      "7.32\n"
     ]
    }
   ],
   "source": [
    "#parcial 3\n",
    "\n",
    "archivo = open(\"happiness.txt\", \"r\")\n",
    "txt = archivo.read()\n",
    "archivo.close()\n",
    "\n",
    "print(txt.count(\"UK\")) # 1\n",
    "\n",
    "registros = txt.split(\"\\n\")\n",
    "ctdtot =+ 0\n",
    "fcdtot = 0\n",
    "mujeres = 0\n",
    "\n",
    "for i in registros:\n",
    "    #print(i)\n",
    "    if i == \"pais,genero,felicidad,cantidad\":\n",
    "        continue\n",
    "        \n",
    "    datos = i.split(\",\")\n",
    "    \n",
    "    if datos[1] == \"Female\":\n",
    "        mujeres += 1\n",
    "        fcdtot += float(datos[2])\n",
    "        #print(datos)\n",
    "        \n",
    "    ctdtot += int(datos[3])\n",
    "    \n",
    "#print(len(registros)-1)    \n",
    "cantidadprom = ctdtot/168 # o ctdtot/(len(registros)-1)\n",
    "felicidadprom = fcdtot/mujeres  # de las \"Female\"\n",
    "\n",
    "print(round(cantidadprom,1)) # 2\n",
    "print(round(felicidadprom,2)) # 3\n"
   ]
  },
  {
   "cell_type": "code",
   "execution_count": 40,
   "id": "19a3e614",
   "metadata": {},
   "outputs": [
    {
     "name": "stdout",
     "output_type": "stream",
     "text": [
      "1\n",
      "0\n",
      "2\n",
      "1\n"
     ]
    }
   ],
   "source": [
    "archivo = open(\"cameos.txt\", \"r\")\n",
    "txt = archivo.read()\n",
    "archivo.close()\n",
    "\n",
    "def numcameos(frases):\n",
    "    cameo  = \"saramago\"\n",
    "    ncameos = []\n",
    "    finalcameo = (len(cameo)-1)\n",
    "    #(len(cameo)-1) seria 7, la posicion de la ultima letra, es en la \"o\" de saramago\n",
    "    for frase in frases:\n",
    "        cameos = 0\n",
    "        j = 0\n",
    "        for letra in frase:\n",
    "            obj = cameo[j]\n",
    "            if letra == obj: \n",
    "                if j == finalcameo: \n",
    "                    #aqui se verifico la ultima letra del cameo y debe volver a empezar a verificar\n",
    "                    j = -1\n",
    "                    cameos +=1\n",
    "                j+=1\n",
    "        ncameos.append(cameos)\n",
    "        \n",
    "    return ncameos\n",
    "\n",
    "frases = txt.replace(\" \",\"\").lower().split(\"\\n\")\n",
    "#print(frases)\n",
    "\n",
    "#print(numcameos(frases))\n",
    "nc = numcameos(frases)\n",
    "\n",
    "for i in nc:\n",
    "    print(i)\n",
    "    \n",
    "\"\"\"\n",
    "Mientras sufria de sarampion asaba nueces en el magosto.\n",
    "Creo que nos quedamos ciegos, ciegos que, viendo, no ven.\n",
    "Vinieron Saray y Margot, junto a Santiago, Ramiro y Agustiniano.\n",
    "Sasasa, rarara, mamama, gogogo.\n",
    "\"\"\""
   ]
  },
  {
   "cell_type": "code",
   "execution_count": 21,
   "id": "09e838ca",
   "metadata": {},
   "outputs": [
    {
     "name": "stdout",
     "output_type": "stream",
     "text": [
      "2\n",
      "3\n",
      "1 1 1\n",
      "0 1 1\n",
      "0 0 1\n",
      "Triangular superior\n",
      "1 \n",
      "1\n",
      "Diagonal\n"
     ]
    }
   ],
   "source": [
    "def tipomatriz(x):\n",
    "    i = 0\n",
    "    tsuperior = True\n",
    "    tinferior = True\n",
    "    for linea in x:\n",
    "        #diagonal = linea[i]\n",
    "        \n",
    "        inf = linea[:i]    #valores a la izquierda del valor que hacer parte de la diagonal   \n",
    "        sup = linea[i+1:]  #// a la derecha //\n",
    "        \n",
    "        # se podria verificar tambien con sum(inf) != 0,esto si tuvieramos los numeros como int y no str\n",
    "        # entonces se cumpliria el if si la suma de los inferiores no da 0\n",
    "        if not all([j == \"0\" for j in inf]): # se mira que para alomenos un numero inferior == \"0\" sea False \n",
    "            tsuperior = False # la condicion del if es que todos los numeros inferiores son 0 sea falso \n",
    "        if not all([j == \"0\" for j in sup]):\n",
    "            tinferior = False\n",
    "            \n",
    "        i+=1\n",
    "    if tsuperior and tinferior:\n",
    "        return \"Diagonal\"\n",
    "    if tsuperior:\n",
    "        return \"Triangular superior\"\n",
    "    if tinferior:\n",
    "        return \"Triangular inferior\"\n",
    "    return \"Ni diagonal ni triangular\"\n",
    "    \n",
    "n = int(input())\n",
    "for i in range(n):\n",
    "    matriz = []\n",
    "    tamano = int(input())\n",
    "    for j in range(tamano):\n",
    "        linea = input()\n",
    "        matriz.append(linea.split())\n",
    "    print(tipomatriz(matriz))\n",
    "#print(matriz)"
   ]
  },
  {
   "cell_type": "code",
   "execution_count": 53,
   "id": "03e68432",
   "metadata": {},
   "outputs": [
    {
     "name": "stdout",
     "output_type": "stream",
     "text": [
      "apodase 1\n",
      "bartolo 1\n",
      "parra 4\n",
      "podador 1\n",
      "podas 2\n"
     ]
    },
    {
     "data": {
      "text/plain": [
       "'\\nPodador que podas la parra, que parra podas?\\nPodas mi parra o tu parra podas?\\nNi podo tu parra, ni mi parra podo,\\nque podo la parra de mi tio Bartolo que apodase tolo.\\n'"
      ]
     },
     "execution_count": 53,
     "metadata": {},
     "output_type": "execute_result"
    }
   ],
   "source": [
    "archivo = open(\"discurso.txt\",\"r\")\n",
    "txt = archivo.read()\n",
    "archivo.close()\n",
    "\n",
    "discurso = txt.lower().replace(\"?\",\"\").replace(\",\",\"\").replace(\".\",\"\").replace(\";\",\"\").replace(\":\",\"\").split(\"\\n\")\n",
    "palabrasvalidas = [] \n",
    "\n",
    "for linea in discurso:\n",
    "    plbs = linea.split()\n",
    "    # print(palabras)\n",
    "    for palabra in plbs:\n",
    "        if len(palabra)>4 and [palabra, 0] not in palabrasvalidas:\n",
    "            palabrasvalidas.append([palabra, 0])\n",
    "palabrasvalidas.sort()\n",
    "#print(palabras)\n",
    "            \n",
    "for palabra in palabrasvalidas:\n",
    "    for linea in discurso:\n",
    "        palabras = linea.split()\n",
    "        if palabra[0] in palabras:\n",
    "            palabra[1] += 1\n",
    "\n",
    "for i in palabrasvalidas:\n",
    "    print(i[0], i[1])\n",
    "        \n",
    "\"\"\"\n",
    "Podador que podas la parra, que parra podas?\n",
    "Podas mi parra o tu parra podas?\n",
    "Ni podo tu parra, ni mi parra podo,\n",
    "que podo la parra de mi tio Bartolo que apodase tolo.\n",
    "\"\"\""
   ]
  },
  {
   "cell_type": "code",
   "execution_count": 44,
   "id": "dbe5007c",
   "metadata": {
    "scrolled": true
   },
   "outputs": [
    {
     "name": "stdout",
     "output_type": "stream",
     "text": [
      "1\n",
      "d,3\n",
      "2000-01-01\n",
      "2000-01-15\n",
      "2000-01-29\n",
      "d ataca cada 14 dias y volvera a hacerlo en 2000-02-12\n",
      "\n"
     ]
    }
   ],
   "source": [
    "import datetime as dt\n",
    "\n",
    "def asesinoperiodico(x):\n",
    "    diferencias = []\n",
    "    for l in range(ncrimenes):\n",
    "        if l != 0: #o l>0\n",
    "            dif2 = dif\n",
    "            #print(\"\\n\",dif2,\"dif2\")\n",
    "                  \n",
    "        if l == ncrimenes-1:\n",
    "            break\n",
    "            \n",
    "        fecha1 = x[l]\n",
    "        fecha2 = x[l+1]           \n",
    "        dif = (fecha2-fecha1)\n",
    "        \n",
    "        #print(dif, \"dif\\n\")\n",
    "        if dif.days == 365:      #no es necesario pero hace la ejecucion mas rapida\n",
    "            return 0           \n",
    "        \n",
    "        if l != 0 and dif2 != dif:\n",
    "            return 0\n",
    "     \n",
    "    proximoatk = dt.datetime.strftime(x[-1]+dif, \"%Y-%m-%d\") \n",
    "    \n",
    "    return dif.days,proximoatk \n",
    "            \n",
    "\n",
    "n = int(input())\n",
    "for i in range(n):\n",
    "    registro = input()\n",
    "    datos = registro.split(\",\")\n",
    "    crimenes = []\n",
    "    asesino = datos[0]\n",
    "    ncrimenes = int(datos[1])\n",
    "    for j in range(ncrimenes):\n",
    "        fechacrimen = dt.datetime.strptime(input(), \"%Y-%m-%d\")\n",
    "        crimenes.append(fechacrimen)\n",
    "    y = asesinoperiodico(crimenes)\n",
    "    if y == 0:\n",
    "        print(asesino,\"no es asesino(a) serial periodico\\n\")\n",
    "    else:\n",
    "        print(asesino,\"ataca cada\", y[0],\"dias y volvera a hacerlo en\", str(y[1])+\"\\n\")\n"
   ]
  },
  {
   "cell_type": "code",
   "execution_count": 62,
   "id": "03c18b10",
   "metadata": {},
   "outputs": [
    {
     "name": "stdout",
     "output_type": "stream",
     "text": [
      "5\n",
      "Hasta luego curso! Turing, puedes estar orgulloso de mi\n"
     ]
    }
   ],
   "source": [
    "n = int(input())\n",
    "mensajes = {0:\"Hasta luego curso! Turing, puedes estar orgulloso de mi\",1:\"Goodbye course! Turing, you can be proud of me\",2:\"Au revoir cours! Turing, tu peux etre fier de moi\",3:\"Adeus, curso! Turing, pode se orgulhar de mim\",4:\"Auf Wiedersehen! Turing, du kannst stolz auf mich sein\"}\n",
    "\n",
    "while n>4:\n",
    "    residuo = n%5\n",
    "    n = n//5\n",
    "    print(mensajes[residuo])"
   ]
  },
  {
   "cell_type": "code",
   "execution_count": 100,
   "id": "262952da",
   "metadata": {
    "scrolled": true
   },
   "outputs": [
    {
     "name": "stdout",
     "output_type": "stream",
     "text": [
      "1\n",
      "3\n",
      "C-137 DELTA-2\n",
      "OMICRON-PERSEI-8 C-137\n",
      "DELTA-2 OMICRON-PERSEI-8 \n",
      "DELTA-2 origen a buscar\n",
      "OMICRON-PERSEI-8 origen a buscar\n",
      "C-137 origen a buscar\n",
      "Pueden volver a C-137 en 3 saltos\n"
     ]
    }
   ],
   "source": [
    "n = int(input())\n",
    "def saltos_volver(x):\n",
    "    origenes = []\n",
    "    destinos = []\n",
    "    saltos = 0\n",
    "    \n",
    "    for portal in x:\n",
    "        destinos.append(portal[1])\n",
    "        origenes.append(portal[0])\n",
    "        \n",
    "    if origenes[0] not in destinos or destinos[0] not in origenes: return 0\n",
    "    else:\n",
    "        destino = destinos[0] # el destino del primer viaje desde c-137\n",
    "        saltos = 0 \n",
    "        for j in range(nportales):\n",
    "            saltos+=1\n",
    "            #print(destino, \"origen a buscar\")\n",
    "            if destino == origenes[0]: \n",
    "                #si el destino es igual a c-137, eso significa que podemos volver desde este origen\n",
    "                return saltos\n",
    "            if destino not in origenes: \n",
    "                #si el destino no esta en la lista origenes significa que si tomamos este destino como origen, no hay destino a seguir\n",
    "                return 0\n",
    "            posorigen = origenes.index(destino) # buscar la posicion del destino en la lista origenes\n",
    "            # entonces ya vemos al destino como origen\n",
    "            destino = destinos[posorigen] # el destino desde el origen(el anterior destino)\n",
    "                      \n",
    "for i in range(n):\n",
    "    nportales = int(input())\n",
    "    portales = []\n",
    "    for j in range(nportales):\n",
    "        portal = input()\n",
    "        portales.append(portal.split())\n",
    "        \n",
    "    #print(portales)\n",
    "    saltos = saltos_volver(portales)\n",
    "    \n",
    "    if saltos == 0: print(\"Deambulan por el multiverso\")\n",
    "    else : print(\"Pueden volver a C-137 en\", saltos,\"saltos\")"
   ]
  },
  {
   "cell_type": "code",
   "execution_count": 95,
   "id": "655ae54d",
   "metadata": {
    "scrolled": true
   },
   "outputs": [
    {
     "name": "stdout",
     "output_type": "stream",
     "text": [
      "True\n",
      "introduzca nombre 8\n",
      "8\n"
     ]
    }
   ],
   "source": [
    "a=2\n",
    "s=\"2\"\n",
    "\n",
    "texto = \"aa\"\n",
    "\"\"\"\n",
    "num = 2\n",
    "falso = False\n",
    "real = 2.1\n",
    "\n",
    "# > < == not != \n",
    "print(not not False)\n",
    "\"\"\"\n",
    "\n",
    "\"\"\"\"int()\n",
    "float()\n",
    "f = str(a)\n",
    "bool()\n",
    "\n",
    "num=0\n",
    "print(\"2aa\" == s+texto)\n",
    "numero = input(\"introduzca nombre \")\n",
    "int(numero)\"\"\"\n",
    "print(\"2aa\" == s+texto)\n",
    "\n",
    "\n",
    "\n"
   ]
  },
  {
   "cell_type": "code",
   "execution_count": null,
   "id": "cd8d3c33",
   "metadata": {},
   "outputs": [],
   "source": []
  }
 ],
 "metadata": {
  "kernelspec": {
   "display_name": "Python 3 (ipykernel)",
   "language": "python",
   "name": "python3"
  },
  "language_info": {
   "codemirror_mode": {
    "name": "ipython",
    "version": 3
   },
   "file_extension": ".py",
   "mimetype": "text/x-python",
   "name": "python",
   "nbconvert_exporter": "python",
   "pygments_lexer": "ipython3",
   "version": "3.8.12"
  }
 },
 "nbformat": 4,
 "nbformat_minor": 5
}
